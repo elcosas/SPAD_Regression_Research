{
 "cells": [
  {
   "cell_type": "markdown",
   "id": "672ead42-f68f-40d4-872a-8f78d08b1a6f",
   "metadata": {
    "jp-MarkdownHeadingCollapsed": true
   },
   "source": [
    "# Dataset Testing & Experimentation\n",
    "\n",
    "This notebook contains important statistics and models of the base simulated transient data. The insights gained from these tests help to identify patterns and trends in the data that can then be used to determine potential distributions\n",
    "\n",
    "Dataset limitations:\n",
    "- Current transient data is simulated, and lacks any form of noise that would be seen from the readings of an actual SPAD sensor\n",
    "- Units for realistic measurements of both time (IV) and photon intensity (DV) are arbitrary\n",
    "- Training data given from each sensor is an array of (double) equi-depth bin edges\n",
    "- Sensor data follows the laws of a [poisson experiment](https://www.statology.org/poisson-distribution/)"
   ]
  }
 ],
 "metadata": {
  "kernelspec": {
   "display_name": "venv",
   "language": "python",
   "name": "venv"
  },
  "language_info": {
   "codemirror_mode": {
    "name": "ipython",
    "version": 3
   },
   "file_extension": ".py",
   "mimetype": "text/x-python",
   "name": "python",
   "nbconvert_exporter": "python",
   "pygments_lexer": "ipython3",
   "version": "3.11.5"
  }
 },
 "nbformat": 4,
 "nbformat_minor": 5
}

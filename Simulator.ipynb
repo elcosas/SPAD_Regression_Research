{
 "cells": [
  {
   "cell_type": "code",
   "execution_count": 2,
   "id": "de0d937b-755b-4522-80e3-deb36e132054",
   "metadata": {},
   "outputs": [],
   "source": [
    "import numpy as np\n",
    "import matplotlib.pyplot as plt\n",
    "import math\n",
    "\n",
    "\n",
    "def binlvl(idx,len_):\n",
    "  r\"\"\"Funciton to calculate and return the binning level for each index.\n",
    "  \"\"\"\n",
    "  return int(math.log(len_+1,2) - math.log(math.gcd(idx+1, len_+1),2)) - 1\n",
    "\n",
    "def plot_eqbins(ebins, ax_, lw = 1, ls='-', cmin = 0, cmax = -1):\n",
    "  r\"\"\"Function to plot the equibins based on the levels for better understanding.\n",
    "\n",
    "  NOTE: This function supports plotting of bins only till 6th level i.e. till 64 bins\n",
    "  \"\"\"\n",
    "  colors = ['r','g','b','k','y','c']\n",
    "  for idx,e in enumerate(ebins):\n",
    "    if (cmax!= -1) and ((e < cmin) or (e > cmax)):\n",
    "      continue\n",
    "    c = colors[binlvl(idx,len(ebins))]\n",
    "    ax_.axvline(x = e,\n",
    "                color = c,\n",
    "                label = 'axvline - full height',\n",
    "                linewidth = lw,\n",
    "                linestyle=ls)\n",
    "\n",
    "def oracle_edh(tr, n_edh):\n",
    "  bins = tr.shape[-1]\n",
    "\n",
    "  tr_cs = np.cumsum(tr)\n",
    "  tr_sum = np.sum(tr)\n",
    "  edh_bins = np.zeros((n_edh-1))\n",
    "\n",
    "  for idx in range(edh_bins.shape[-1]):\n",
    "      edh_bins[idx] = np.argmin(np.abs(tr_cs - tr_sum*(idx+1.0)/n_edh))\n",
    "\n",
    "  return edh_bins+1"
   ]
  },
  {
   "cell_type": "code",
   "execution_count": 7,
   "id": "6a9c05e3-4f12-4f42-bab6-7c922c213a7c",
   "metadata": {},
   "outputs": [
    {
     "data": {
      "image/png": "[encoded data removed]",
      "text/plain": [
       "<Figure size 1500x600 with 1 Axes>"
      ]
     },
     "metadata": {},
     "output_type": "display_data"
    }
   ],
   "source": [
    "# constants\n",
    "c = 3e8 # Speed of light in m/s\n",
    "\n",
    "# Setting the simulation parameters\n",
    "\n",
    "################################################################################\n",
    "\n",
    "# d-ToF SPAD Laser properties\n",
    "T = 100*1e-9 # Laser time period in s\n",
    "FWHM = 2.317925*1e-9 # Full width half maximum of the laser pulse (Controls the pulse width)\n",
    "N_tbins = 100000 # Resolution of the laser pulse\n",
    "N_cycles = 1\n",
    "\n",
    "\n",
    "# Calculating dependent variables\n",
    "max_depth = T*c/2.0\n",
    "bin_size = T*1.0/N_tbins\n",
    "sigma = FWHM/(2.355*bin_size)\n",
    "\n",
    "# Number of bins in equi-depth-histogram\n",
    "N_edh_bins = 4\n",
    "\n",
    "################################################################################\n",
    "\n",
    "# Setting scene parameters (extrinsic parameters)\n",
    "\n",
    "gt_depth = 2.5 # scene distance in meters\n",
    "alpha_sig = 0.5 # Number of signal photons per laser cycle\n",
    "alpha_bg = 0.5 # Number of ambient/ background photons per laser cycle accross all bins\n",
    "\n",
    "# Computing the time of flight for given distance and laser parameters\n",
    "tof =  2*gt_depth/c\n",
    "\n",
    "\n",
    "# Simulating the return signal\n",
    "# generating the ideal transient\n",
    "pulse = np.zeros(N_tbins)\n",
    "mu = int(tof/bin_size)\n",
    "pulse[mu] = 1\n",
    "\n",
    "x = np.linspace(0,N_tbins-1,N_tbins)\n",
    "# NOTE: sigma and mu have units (number of bins)\n",
    "\n",
    "# Generating the time shifted laser pulse\n",
    "tr = (np.exp(-((x - mu)**2)/(2*sigma**2)))/(sigma*np.sqrt(2*np.pi))\n",
    "tr = np.divide(tr,np.sum(tr, keepdims=True))\n",
    "\n",
    "# Scaling the returned laser pulse based on albedo and distance fall off\n",
    "norm_alpha = 0.5 # Normalized albedo at the scene point\n",
    "\n",
    "tr = norm_alpha*tr/(gt_depth**2)\n",
    "tr = np.divide(tr,np.sum(tr, keepdims=True))\n",
    "\n",
    "# Adding ambient number of photons\n",
    "tr2 = tr*alpha_sig + alpha_bg/N_tbins\n",
    "\n",
    "\n",
    "fig, ax = plt.subplots(figsize = (15,6))\n",
    "\n",
    "\n",
    "ax.plot(tr2*N_cycles, '-k', label = \"GT transient\")\n",
    "ax.plot(tr2*0, '-w')\n",
    "gt_edh_bins = oracle_edh(tr2, N_edh_bins)\n",
    "plot_eqbins(gt_edh_bins, ax)\n",
    "plt.show()"
   ]
  },
  {
   "cell_type": "code",
   "execution_count": 8,
   "id": "c6854b36-0664-4700-9b54-13425a8012fd",
   "metadata": {},
   "outputs": [
    {
     "name": "stdout",
     "output_type": "stream",
     "text": [
      "0|16254.0\n",
      "1|17583.0\n",
      "2|50000.0\n"
     ]
    }
   ],
   "source": [
    "# Save generated boundaries & transients\n",
    "for i, data in enumerate(gt_edh_bins):\n",
    "    print(f'{i}|{data}')\n",
    "\n",
    "np.save('./dataset/gen_bounds.npy', gt_edh_bins[np.newaxis, :])\n",
    "np.save('./dataset/gen_trans.npy', (tr2*N_cycles)[np.newaxis, :])"
   ]
  }
 ],
 "metadata": {
  "kernelspec": {
   "display_name": "venv",
   "language": "python",
   "name": "venv"
  },
  "language_info": {
   "codemirror_mode": {
    "name": "ipython",
    "version": 3
   },
   "file_extension": ".py",
   "mimetype": "text/x-python",
   "name": "python",
   "nbconvert_exporter": "python",
   "pygments_lexer": "ipython3",
   "version": "3.11.4"
  }
 },
 "nbformat": 4,
 "nbformat_minor": 5
}
